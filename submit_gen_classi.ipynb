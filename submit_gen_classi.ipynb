{
  "nbformat": 4,
  "nbformat_minor": 0,
  "metadata": {
    "colab": {
      "name": "Untitled0.ipynb",
      "provenance": []
    },
    "kernelspec": {
      "name": "python3",
      "display_name": "Python 3"
    }
  },
  "cells": [
    {
      "cell_type": "code",
      "metadata": {
        "colab": {
          "base_uri": "https://localhost:8080/"
        },
        "id": "F3thko_7XiPo",
        "outputId": "0e72aac3-4b10-4fba-93b0-a40bd54b925e"
      },
      "source": [
        "from google.colab import drive\n",
        "drive.mount('/content/drive')"
      ],
      "execution_count": 2,
      "outputs": [
        {
          "output_type": "stream",
          "text": [
            "Mounted at /content/drive\n"
          ],
          "name": "stdout"
        }
      ]
    },
    {
      "cell_type": "code",
      "metadata": {
        "colab": {
          "base_uri": "https://localhost:8080/",
          "height": 379
        },
        "id": "EKMuP8KOX5p8",
        "outputId": "896161aa-7acb-47c8-b338-5202244389ce"
      },
      "source": [
        "import numpy as np\n",
        "import matplotlib.pyplot as plt\n",
        "# extracting the data\n",
        "\n",
        "part = 1 # alloting 1 for part 1 and 2 for part 2\n",
        "\n",
        "if part == 1:\n",
        "    data = np.loadtxt(\"./binclass.txt\",delimiter=',')\n",
        "else :\n",
        "    data = np.loadtxt(\"./binclassv2.txt\",delimiter=',')\n",
        "#print(data)\n",
        "simil_in_sigma = 1 # alloting 1 for same sigma and 0 for diff sigma\n",
        "#learning features and labels from data \n",
        "feat = data[:, :data.shape[1]-1]\n",
        "lab = data[:, data.shape[1]-1]\n",
        "#print (lab.shape)\n",
        "#classes of positive and negative labels\n",
        "negi = lab<0\n",
        "#print(negi)\n",
        "posi = lab>0\n",
        "#calculating means and std dev and variances for negative class \n",
        "stddev_n = np.std(feat[negi], axis = 0)\n",
        "mean_n = np.mean(feat[negi], axis = 0)\n",
        "var_n = np.mean(stddev_n*stddev_n)\n",
        "#print(n_mean.shape)\n",
        "#print(var_n)\n",
        "#calculating means and std dev and variances for positive class \n",
        "stddev_p = np.std(feat[posi], axis = 0)\n",
        "mean_p = np.mean(feat[posi], axis = 0)\n",
        "var_p = np.mean(stddev_p*stddev_p)\n",
        "#print(var_p)\n",
        "var = np.array([var_p, var_n])\n",
        "mean = np.array([mean_p, mean_n])\n",
        "#print(var)\n",
        "#print(mean)\n",
        "\n",
        "mean_i = mean_p.reshape(mean_p.shape[0], 1)\n",
        "\n",
        "print(mean_i)\n",
        "mean_j = mean_n.reshape(mean_n.shape[0], 1)\n",
        "print(mean_j)\n",
        "#setting up te plot\n",
        "if simil_in_sigma == 0: # deciding plot titles by sigma\n",
        "    plt.title('Sigma is same, part (' + str(part) + ')')\n",
        "    n_var = p_var\n",
        "else:\n",
        "    plt.title('Sigma is different, part (' + str(part) + ')')\n",
        "#plotting the classes blue and red \n",
        "plt.plot(feat[negi,0], feat[negi,1], 'b*')\n",
        "plt.plot(feat[posi,0], feat[posi,1], 'r*')\n",
        "x_0 = np.arange(np.min(feat[:,0]),np.max(feat[:,0]),0.05)\n",
        "plt.xlabel('x---->')\n",
        "y_0 = np.arange(np.min(feat[:,1]),np.max(feat[:,1]),0.05)\n",
        "plt.ylabel('y---->')\n",
        "X, Y = np.meshgrid(x_0, y_0)\n",
        "Z1 = (pow(var_p, (-1*mean_i.shape[0]/2)))*np.exp((pow((X-mean_i[0]), 2) + pow((Y-mean_i[1]), 2))/(-2*var_p))\n",
        "Z2 = (pow(var_n, (-1*mean_j.shape[0]/2)))*np.exp((pow((X-mean_j[0]), 2) + pow((Y-mean_j[1]), 2))/(-2*var_n))\n",
        "Z = Z1 - Z2\n",
        "plt.contour(X, Y, Z, 0)\n",
        "plt.show()\n",
        "plt.savefig('part_1_same_sigma.png')\n"
      ],
      "execution_count": 19,
      "outputs": [
        {
          "output_type": "stream",
          "text": [
            "[[10.01145764]\n",
            " [19.5495245 ]]\n",
            "[[20.32489   ]\n",
            " [ 9.68799575]]\n"
          ],
          "name": "stdout"
        },
        {
          "output_type": "display_data",
          "data": {
            "image/png": "[encoded data removed]",
            "text/plain": [
              "<Figure size 432x288 with 1 Axes>"
            ]
          },
          "metadata": {
            "tags": [],
            "needs_background": "light"
          }
        },
        {
          "output_type": "display_data",
          "data": {
            "text/plain": [
              "<Figure size 432x288 with 0 Axes>"
            ]
          },
          "metadata": {
            "tags": []
          }
        }
      ]
    },
    {
      "cell_type": "code",
      "metadata": {
        "id": "wj7YIyanZ8oJ"
      },
      "source": [
        ""
      ],
      "execution_count": null,
      "outputs": []
    }
  ]
}